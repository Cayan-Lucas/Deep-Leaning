{
 "cells": [
  {
   "cell_type": "code",
   "execution_count": 2,
   "id": "c305f377-b2be-4c0e-990c-75116ffb6e53",
   "metadata": {},
   "outputs": [
    {
     "name": "stdout",
     "output_type": "stream",
     "text": [
      "   user_id  movie_id  rating  timestamp\n",
      "0      196       242       3  881250949\n",
      "1      186       302       3  891717742\n",
      "2       22       377       1  878887116\n",
      "3      244        51       2  880606923\n",
      "4      166       346       1  886397596\n"
     ]
    }
   ],
   "source": [
    "\n",
    "import pandas as pd\n",
    "\n",
    "ratings = pd.read_csv('ml-100k/u.data', sep='\\t', names=['user_id', 'movie_id', 'rating', 'timestamp'])\n",
    "\n",
    "\n",
    "print(ratings.head())"
   ]
  },
  {
   "cell_type": "code",
   "execution_count": 6,
   "id": "60854126-9205-477f-a3db-ec5acd39d8b6",
   "metadata": {},
   "outputs": [
    {
     "name": "stdout",
     "output_type": "stream",
     "text": [
      "user_id       1         2         3         4         5         6         7    \\\n",
      "user_id                                                                         \n",
      "1        1.000000  0.166931  0.047460  0.064358  0.378475  0.430239  0.440367   \n",
      "2        0.166931  1.000000  0.110591  0.178121  0.072979  0.245843  0.107328   \n",
      "3        0.047460  0.110591  1.000000  0.344151  0.021245  0.072415  0.066137   \n",
      "4        0.064358  0.178121  0.344151  1.000000  0.031804  0.068044  0.091230   \n",
      "5        0.378475  0.072979  0.021245  0.031804  1.000000  0.237286  0.373600   \n",
      "\n",
      "user_id       8         9         10   ...       934       935       936  \\\n",
      "user_id                                ...                                 \n",
      "1        0.319072  0.078138  0.376544  ...  0.369527  0.119482  0.274876   \n",
      "2        0.103344  0.161048  0.159862  ...  0.156986  0.307942  0.358789   \n",
      "3        0.083060  0.061040  0.065151  ...  0.031875  0.042753  0.163829   \n",
      "4        0.188060  0.101284  0.060859  ...  0.052107  0.036784  0.133115   \n",
      "5        0.248930  0.056847  0.201427  ...  0.338794  0.080580  0.094924   \n",
      "\n",
      "user_id       937       938       939       940       941       942       943  \n",
      "user_id                                                                        \n",
      "1        0.189705  0.197326  0.118095  0.314072  0.148617  0.179508  0.398175  \n",
      "2        0.424046  0.319889  0.228583  0.226790  0.161485  0.172268  0.105798  \n",
      "3        0.069038  0.124245  0.026271  0.161890  0.101243  0.133416  0.026556  \n",
      "4        0.193471  0.146058  0.030138  0.196858  0.152041  0.170086  0.058752  \n",
      "5        0.079779  0.148607  0.071459  0.239955  0.139595  0.152497  0.313941  \n",
      "\n",
      "[5 rows x 943 columns]\n"
     ]
    }
   ],
   "source": [
    "user_movie_matrix = ratings.pivot_table(index='user_id', columns='movie_id', values='rating')\n",
    "\n",
    "\n",
    "user_movie_matrix.fillna(0, inplace=True)\n",
    "\n",
    "\n",
    "user_similarity = cosine_similarity(user_movie_matrix)\n",
    "\n",
    "\n",
    "user_similarity_df = pd.DataFrame(user_similarity, index=user_movie_matrix.index, columns=user_movie_matrix.index)\n",
    "\n",
    "\n",
    "print(user_similarity_df.head())"
   ]
  },
  {
   "cell_type": "code",
   "execution_count": 19,
   "id": "ad811285-3b34-4141-b659-6b7917b3314c",
   "metadata": {},
   "outputs": [
    {
     "name": "stdout",
     "output_type": "stream",
     "text": [
      "movie_id      1         2         3         4         5         6     \\\n",
      "movie_id                                                               \n",
      "1         1.000000  0.402382  0.330245  0.454938  0.286714  0.116344   \n",
      "2         0.402382  1.000000  0.273069  0.502571  0.318836  0.083563   \n",
      "3         0.330245  0.273069  1.000000  0.324866  0.212957  0.106722   \n",
      "4         0.454938  0.502571  0.324866  1.000000  0.334239  0.090308   \n",
      "5         0.286714  0.318836  0.212957  0.334239  1.000000  0.037299   \n",
      "\n",
      "movie_id      7         8         9         10    ...      1673  1674  \\\n",
      "movie_id                                          ...                   \n",
      "1         0.620979  0.481114  0.496288  0.273935  ...  0.035387   0.0   \n",
      "2         0.383403  0.337002  0.255252  0.171082  ...  0.000000   0.0   \n",
      "3         0.372921  0.200794  0.273669  0.158104  ...  0.000000   0.0   \n",
      "4         0.489283  0.490236  0.419044  0.252561  ...  0.000000   0.0   \n",
      "5         0.334769  0.259161  0.272448  0.055453  ...  0.000000   0.0   \n",
      "\n",
      "movie_id      1675      1676      1677  1678  1679  1680      1681      1682  \n",
      "movie_id                                                                      \n",
      "1         0.000000  0.000000  0.035387   0.0   0.0   0.0  0.047183  0.047183  \n",
      "2         0.000000  0.000000  0.000000   0.0   0.0   0.0  0.078299  0.078299  \n",
      "3         0.000000  0.000000  0.032292   0.0   0.0   0.0  0.000000  0.096875  \n",
      "4         0.094022  0.094022  0.037609   0.0   0.0   0.0  0.056413  0.075218  \n",
      "5         0.000000  0.000000  0.000000   0.0   0.0   0.0  0.000000  0.094211  \n",
      "\n",
      "[5 rows x 1682 columns]\n"
     ]
    }
   ],
   "source": [
    "movie_user_matrix = user_movie_matrix.T\n",
    "\n",
    "movie_similarity = cosine_similarity(movie_user_matrix)\n",
    "\n",
    "movie_similarity_df = pd.DataFrame(movie_similarity, index=movie_user_matrix.index, columns=movie_user_matrix.index)\n",
    "\n",
    "print(movie_similarity_df.head())"
   ]
  },
  {
   "cell_type": "code",
   "execution_count": 20,
   "id": "a16079b0-55a4-464d-be2c-1841b09295bc",
   "metadata": {},
   "outputs": [],
   "source": [
    "def recommend_movies_user_based(user_id, user_movie_matrix, user_similarity_df, n_recommendations=5):\n",
    "    similar_users = user_similarity_df[user_id].sort_values(ascending=False)\n",
    "\n",
    "    similar_users_ratings = user_movie_matrix.loc[similar_users.index]\n",
    "\n",
    "    weighted_ratings = similar_users_ratings.T.dot(similar_users) / similar_users.sum()\n",
    "\n",
    "    user_ratings = user_movie_matrix.loc[user_id]\n",
    "    recommendations = weighted_ratings[user_ratings.isna()].sort_values(ascending=False)\n",
    "   \n",
    "    return recommendations.head(n_recommendations)\n",
    "\n",
    "\n"
   ]
  },
  {
   "cell_type": "code",
   "execution_count": null,
   "id": "90950caf-5231-480c-ab17-e545092bf2b6",
   "metadata": {},
   "outputs": [],
   "source": [
    "def recommend_movies_item_based(user_id, user_movie_matrix, movie_similarity_df, n_recommendations=5):\n",
    "    user_ratings = user_movie_matrix.loc[user_id]\n",
    "\n",
    "    rated_movies = user_ratings[user_ratings.notna()]\n",
    "\n",
    "    weighted_ratings = movie_similarity_df[rated_movies.index].dot(rated_movies) / movie_similarity_df[rated_movies.index].sum(axis=1)\n",
    "\n",
    "    recommendations = weighted_ratings[user_ratings.isna()].sort_values(ascending=False)\n",
    "\n",
    "    return recommendations.head(n_recommendations)\n"
   ]
  },
  {
   "cell_type": "code",
   "execution_count": 21,
   "id": "6fc669da-ea8d-4c58-b9f6-e8892203903e",
   "metadata": {},
   "outputs": [
    {
     "name": "stdout",
     "output_type": "stream",
     "text": [
      "Recomendações baseadas em usuários para o usuário 1:\n",
      "Series([], dtype: float64)\n",
      "\n",
      "Recomendações baseadas em itens para o usuário 1:\n",
      "Series([], dtype: float64)\n"
     ]
    }
   ],
   "source": [
    "user_id = 1\n",
    "user_based_recommendations = recommend_movies_user_based(user_id, user_movie_matrix, user_similarity_df)\n",
    "\n",
    "print(f\"Recomendações baseadas em usuários para o usuário {user_id}:\")\n",
    "print(user_based_recommendations)\n",
    "\n",
    "item_based_recommendations = recommend_movies_item_based(user_id, user_movie_matrix, movie_similarity_df)\n",
    "\n",
    "print(f\"\\nRecomendações baseadas em itens para o usuário {user_id}:\")\n",
    "print(item_based_recommendations)\n"
   ]
  },
  {
   "cell_type": "code",
   "execution_count": null,
   "id": "db10ed90-877e-4a07-85ba-028bd941e688",
   "metadata": {},
   "outputs": [],
   "source": []
  }
 ],
 "metadata": {
  "kernelspec": {
   "display_name": "Python 3 (ipykernel)",
   "language": "python",
   "name": "python3"
  },
  "language_info": {
   "codemirror_mode": {
    "name": "ipython",
    "version": 3
   },
   "file_extension": ".py",
   "mimetype": "text/x-python",
   "name": "python",
   "nbconvert_exporter": "python",
   "pygments_lexer": "ipython3",
   "version": "3.12.4"
  }
 },
 "nbformat": 4,
 "nbformat_minor": 5
}
