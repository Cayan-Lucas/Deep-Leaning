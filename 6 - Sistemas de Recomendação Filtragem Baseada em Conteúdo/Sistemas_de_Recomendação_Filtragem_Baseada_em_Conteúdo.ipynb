{
 "cells": [
  {
   "cell_type": "code",
   "execution_count": 1,
   "id": "1dafd8c4-3ebc-4d13-92a3-b06c9b6a3721",
   "metadata": {},
   "outputs": [],
   "source": [
    "import pandas as pd\n",
    "from sklearn.feature_extraction.text import TfidfVectorizer\n",
    "from sklearn.metrics.pairwise import cosine_similarity"
   ]
  },
  {
   "cell_type": "code",
   "execution_count": 2,
   "id": "1102c369-53c9-4098-853d-74f570d71d8f",
   "metadata": {},
   "outputs": [
    {
     "name": "stdout",
     "output_type": "stream",
     "text": [
      "           name                               sale_id  product_id    product  \\\n",
      "0  Mason Howell  442bc2f0-22d3-3c8a-9f71-0f9c16cee0b2         296  Lang Club   \n",
      "1  Mason Howell  442bc2f0-22d3-3c8a-9f71-0f9c16cee0b2         296  Lang Club   \n",
      "2  Mason Howell  442bc2f0-22d3-3c8a-9f71-0f9c16cee0b2         296  Lang Club   \n",
      "3  Mason Howell  442bc2f0-22d3-3c8a-9f71-0f9c16cee0b2         296  Lang Club   \n",
      "4  Mason Howell  442bc2f0-22d3-3c8a-9f71-0f9c16cee0b2         296  Lang Club   \n",
      "\n",
      "   price_y  quantity   price_x                 created_at  \\\n",
      "0  866.694   3.89990  2433.800  1997-09-17 21:50:14+00:00   \n",
      "1  866.694   4.00000  1196.580  1997-09-17 21:50:14+00:00   \n",
      "2  866.694   1.38452  1975.000  1997-09-17 21:50:14+00:00   \n",
      "3  866.694   2.22500   119.526  1997-09-17 21:50:14+00:00   \n",
      "4  866.694   2.89000  2386.940  1997-09-17 21:50:14+00:00   \n",
      "\n",
      "                  updated_at                     email  \n",
      "0  2007-02-15 19:34:06+00:00  jessica.cole@example.net  \n",
      "1  2007-02-15 19:34:06+00:00  jessica.cole@example.net  \n",
      "2  2007-02-15 19:34:06+00:00  jessica.cole@example.net  \n",
      "3  2007-02-15 19:34:06+00:00  jessica.cole@example.net  \n",
      "4  2007-02-15 19:34:06+00:00  jessica.cole@example.net  \n"
     ]
    }
   ],
   "source": [
    "# Supondo que você tenha um arquivo CSV com informações sobre produtos\n",
    "df = pd.read_csv('tudo.csv')\n",
    "\n",
    "# Exibir as primeiras linhas do dataset para confirmar o carregamento\n",
    "print(df.head())"
   ]
  },
  {
   "cell_type": "code",
   "execution_count": 3,
   "id": "e0d7db24-0d54-4f7e-b590-d02f3b361347",
   "metadata": {},
   "outputs": [],
   "source": [
    "# Considerar apenas colunas de interesse (ex.: nome do produto)\n",
    "df_products = df[['product', 'price_y', 'quantity']].drop_duplicates()\n",
    "\n",
    "# Vetorizar o nome dos produtos usando TF-IDF\n",
    "tfidf = TfidfVectorizer(stop_words='english')\n",
    "tfidf_matrix = tfidf.fit_transform(df_products['product'])"
   ]
  },
  {
   "cell_type": "code",
   "execution_count": 4,
   "id": "1131b1ee-aee3-47f6-9e6b-318b4c6e4967",
   "metadata": {},
   "outputs": [],
   "source": [
    "# Calcular a similaridade de cosseno entre os produtos\n",
    "cosine_sim = cosine_similarity(tfidf_matrix, tfidf_matrix)\n"
   ]
  },
  {
   "cell_type": "code",
   "execution_count": 5,
   "id": "3e12b186-e49e-429f-b3ca-dd7fb3be8fe9",
   "metadata": {},
   "outputs": [],
   "source": [
    "def recommend_products(product_name, df_products, cosine_sim, num_recommendations=5):\n",
    "    idx = df_products[df_products['product'] == product_name].index[0]\n",
    "    \n",
    "    sim_scores = list(enumerate(cosine_sim[idx]))\n",
    "    \n",
    "    sim_scores = sorted(sim_scores, key=lambda x: x[1], reverse=True)\n",
    "    \n",
    "    sim_scores = sim_scores[1:num_recommendations+1]\n",
    "    \n",
    "    product_indices = [i[0] for i in sim_scores]\n",
    "    \n",
    "    return df_products.iloc[product_indices][['product', 'price_y', 'quantity']]\n"
   ]
  },
  {
   "cell_type": "code",
   "execution_count": 7,
   "id": "6fdb8e99-59ad-4a14-9c0a-a67314c78fee",
   "metadata": {},
   "outputs": [
    {
     "name": "stdout",
     "output_type": "stream",
     "text": [
      "Recomendações para o produto 'Lang Club':\n",
      "     product  price_y  quantity\n",
      "1  Lang Club  866.694  4.000000\n",
      "2  Lang Club  866.694  1.384520\n",
      "3  Lang Club  866.694  2.225000\n",
      "4  Lang Club  866.694  2.890000\n",
      "5  Lang Club  866.694  0.045135\n"
     ]
    }
   ],
   "source": [
    "\n",
    "product_name = \"Lang Club\"  \n",
    "recommendations = recommend_products(product_name, df_products, cosine_sim)\n",
    "\n",
    "print(f\"Recomendações para o produto '{product_name}':\")\n",
    "print(recommendations)\n"
   ]
  },
  {
   "cell_type": "code",
   "execution_count": null,
   "id": "1b54f951-2af5-4996-98a9-ccf9abd67533",
   "metadata": {},
   "outputs": [],
   "source": []
  }
 ],
 "metadata": {
  "kernelspec": {
   "display_name": "Python 3 (ipykernel)",
   "language": "python",
   "name": "python3"
  },
  "language_info": {
   "codemirror_mode": {
    "name": "ipython",
    "version": 3
   },
   "file_extension": ".py",
   "mimetype": "text/x-python",
   "name": "python",
   "nbconvert_exporter": "python",
   "pygments_lexer": "ipython3",
   "version": "3.12.4"
  }
 },
 "nbformat": 4,
 "nbformat_minor": 5
}
