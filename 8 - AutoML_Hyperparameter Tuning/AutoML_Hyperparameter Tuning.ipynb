{
 "cells": [
  {
   "cell_type": "code",
   "execution_count": 2,
   "id": "dbe73ebd-c540-4ee6-9fa6-85676714b227",
   "metadata": {},
   "outputs": [
    {
     "name": "stdout",
     "output_type": "stream",
     "text": [
      "Requirement already satisfied: tpot in d:\\cayanzin\\anaconda\\anaconda\\lib\\site-packages (0.12.2)\n",
      "Requirement already satisfied: numpy>=1.16.3 in d:\\cayanzin\\anaconda\\anaconda\\lib\\site-packages (from tpot) (1.26.4)\n",
      "Requirement already satisfied: scipy>=1.3.1 in d:\\cayanzin\\anaconda\\anaconda\\lib\\site-packages (from tpot) (1.13.1)\n",
      "Requirement already satisfied: scikit-learn>=1.4.1 in d:\\cayanzin\\anaconda\\anaconda\\lib\\site-packages (from tpot) (1.4.2)\n",
      "Requirement already satisfied: deap>=1.2 in d:\\cayanzin\\anaconda\\anaconda\\lib\\site-packages (from tpot) (1.4.1)\n",
      "Requirement already satisfied: update-checker>=0.16 in d:\\cayanzin\\anaconda\\anaconda\\lib\\site-packages (from tpot) (0.18.0)\n",
      "Requirement already satisfied: tqdm>=4.36.1 in d:\\cayanzin\\anaconda\\anaconda\\lib\\site-packages (from tpot) (4.66.4)\n",
      "Requirement already satisfied: stopit>=1.1.1 in d:\\cayanzin\\anaconda\\anaconda\\lib\\site-packages (from tpot) (1.1.2)\n",
      "Requirement already satisfied: pandas>=0.24.2 in d:\\cayanzin\\anaconda\\anaconda\\lib\\site-packages (from tpot) (2.2.2)\n",
      "Requirement already satisfied: joblib>=0.13.2 in d:\\cayanzin\\anaconda\\anaconda\\lib\\site-packages (from tpot) (1.4.2)\n",
      "Requirement already satisfied: xgboost>=1.1.0 in d:\\cayanzin\\anaconda\\anaconda\\lib\\site-packages (from tpot) (2.1.1)\n",
      "Requirement already satisfied: python-dateutil>=2.8.2 in d:\\cayanzin\\anaconda\\anaconda\\lib\\site-packages (from pandas>=0.24.2->tpot) (2.9.0.post0)\n",
      "Requirement already satisfied: pytz>=2020.1 in d:\\cayanzin\\anaconda\\anaconda\\lib\\site-packages (from pandas>=0.24.2->tpot) (2024.1)\n",
      "Requirement already satisfied: tzdata>=2022.7 in d:\\cayanzin\\anaconda\\anaconda\\lib\\site-packages (from pandas>=0.24.2->tpot) (2023.3)\n",
      "Requirement already satisfied: threadpoolctl>=2.0.0 in d:\\cayanzin\\anaconda\\anaconda\\lib\\site-packages (from scikit-learn>=1.4.1->tpot) (2.2.0)\n",
      "Requirement already satisfied: colorama in d:\\cayanzin\\anaconda\\anaconda\\lib\\site-packages (from tqdm>=4.36.1->tpot) (0.4.6)\n",
      "Requirement already satisfied: requests>=2.3.0 in d:\\cayanzin\\anaconda\\anaconda\\lib\\site-packages (from update-checker>=0.16->tpot) (2.32.2)\n",
      "Requirement already satisfied: six>=1.5 in d:\\cayanzin\\anaconda\\anaconda\\lib\\site-packages (from python-dateutil>=2.8.2->pandas>=0.24.2->tpot) (1.16.0)\n",
      "Requirement already satisfied: charset-normalizer<4,>=2 in d:\\cayanzin\\anaconda\\anaconda\\lib\\site-packages (from requests>=2.3.0->update-checker>=0.16->tpot) (2.0.4)\n",
      "Requirement already satisfied: idna<4,>=2.5 in d:\\cayanzin\\anaconda\\anaconda\\lib\\site-packages (from requests>=2.3.0->update-checker>=0.16->tpot) (3.7)\n",
      "Requirement already satisfied: urllib3<3,>=1.21.1 in d:\\cayanzin\\anaconda\\anaconda\\lib\\site-packages (from requests>=2.3.0->update-checker>=0.16->tpot) (2.2.2)\n",
      "Requirement already satisfied: certifi>=2017.4.17 in d:\\cayanzin\\anaconda\\anaconda\\lib\\site-packages (from requests>=2.3.0->update-checker>=0.16->tpot) (2024.6.2)\n"
     ]
    },
    {
     "data": {
      "application/vnd.jupyter.widget-view+json": {
       "model_id": "3d0999a89b8b468abe41d3878db7ae41",
       "version_major": 2,
       "version_minor": 0
      },
      "text/plain": [
       "Optimization Progress:   0%|          | 0/300 [00:00<?, ?pipeline/s]"
      ]
     },
     "metadata": {},
     "output_type": "display_data"
    },
    {
     "name": "stdout",
     "output_type": "stream",
     "text": [
      "\n",
      "Generation 1 - Current best internal CV score: 0.9785714285714286\n",
      "\n",
      "Generation 2 - Current best internal CV score: 0.9859605911330049\n",
      "\n",
      "Generation 3 - Current best internal CV score: 0.9859605911330049\n",
      "\n",
      "Generation 4 - Current best internal CV score: 0.9859605911330049\n",
      "\n",
      "Generation 5 - Current best internal CV score: 0.9859605911330049\n",
      "\n",
      "Best pipeline: LogisticRegression(MinMaxScaler(input_matrix), C=20.0, dual=False, penalty=l2)\n",
      "Acurácia com TPOT: 1.0\n"
     ]
    }
   ],
   "source": [
    "from tpot import TPOTClassifier\n",
    "from sklearn.datasets import load_iris\n",
    "from sklearn.model_selection import train_test_split\n",
    "\n",
    "X, y = load_iris(return_X_y=True)\n",
    "X_train, X_test, y_train, y_test = train_test_split(X, y, test_size=0.2, random_state=42)\n",
    "\n",
    "tpot = TPOTClassifier(generations=5, population_size=50, verbosity=2)\n",
    "tpot.fit(X_train, y_train)\n",
    "\n",
    "print(f\"Acurácia: {tpot.score(X_test, y_test)}\")"
   ]
  },
  {
   "cell_type": "code",
   "execution_count": null,
   "id": "71b7af58-f305-449c-affe-57de0e2f9ac9",
   "metadata": {},
   "outputs": [],
   "source": []
  }
 ],
 "metadata": {
  "kernelspec": {
   "display_name": "Python 3 (ipykernel)",
   "language": "python",
   "name": "python3"
  },
  "language_info": {
   "codemirror_mode": {
    "name": "ipython",
    "version": 3
   },
   "file_extension": ".py",
   "mimetype": "text/x-python",
   "name": "python",
   "nbconvert_exporter": "python",
   "pygments_lexer": "ipython3",
   "version": "3.12.4"
  }
 },
 "nbformat": 4,
 "nbformat_minor": 5
}
