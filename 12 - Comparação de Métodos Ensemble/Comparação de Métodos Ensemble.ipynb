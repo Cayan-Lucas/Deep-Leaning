{
 "cells": [
  {
   "cell_type": "code",
   "execution_count": 22,
   "id": "0698465b-c172-493a-bf9d-9440761da56f",
   "metadata": {},
   "outputs": [
    {
     "name": "stdout",
     "output_type": "stream",
     "text": [
      "Bagging: Média da precisão = 0.9382539682539683\n",
      "Random Forest: Média da precisão = 0.9777777777777779\n",
      "Boosting: Média da precisão = 0.9333333333333332\n"
     ]
    }
   ],
   "source": [
    "from sklearn.ensemble import BaggingClassifier, RandomForestClassifier, AdaBoostClassifier\n",
    "from sklearn.model_selection import cross_val_score\n",
    "\n",
    "bagging = BaggingClassifier(n_estimators=10)\n",
    "random_forest = RandomForestClassifier(n_estimators=100)\n",
    "boosting = AdaBoostClassifier(n_estimators=50, algorithm='SAMME')\n",
    "\n",
    "models = [bagging, random_forest, boosting]\n",
    "model_names = ['Bagging', 'Random Forest', 'Boosting']\n",
    "for model, name in zip(models, model_names):\n",
    "    scores = cross_val_score(model, X, y, cv=5)\n",
    "    print(f'{name}: Média da precisão = {np.mean(scores)}')"
   ]
  },
  {
   "cell_type": "code",
   "execution_count": null,
   "id": "68a99401-4789-41b0-859b-d190caa196f3",
   "metadata": {},
   "outputs": [],
   "source": []
  }
 ],
 "metadata": {
  "kernelspec": {
   "display_name": "Python 3 (ipykernel)",
   "language": "python",
   "name": "python3"
  },
  "language_info": {
   "codemirror_mode": {
    "name": "ipython",
    "version": 3
   },
   "file_extension": ".py",
   "mimetype": "text/x-python",
   "name": "python",
   "nbconvert_exporter": "python",
   "pygments_lexer": "ipython3",
   "version": "3.12.4"
  }
 },
 "nbformat": 4,
 "nbformat_minor": 5
}
